{
 "cells": [
  {
   "cell_type": "markdown",
   "id": "d5a601af",
   "metadata": {},
   "source": [
    "# Assignment 4 Solution [Python Basic]"
   ]
  },
  {
   "cell_type": "markdown",
   "id": "2a0d14d9",
   "metadata": {},
   "source": [
    "# 1. What exactly is []?"
   ]
  },
  {
   "cell_type": "markdown",
   "id": "a41d0c9d",
   "metadata": {},
   "source": [
    "Ans :\n",
    "    \n",
    "The empty list is represented by []. Means this is list that contains no items. This is similar to '  ' which means empty string"
   ]
  },
  {
   "cell_type": "markdown",
   "id": "7de4372c",
   "metadata": {},
   "source": [
    "# 2. In a list of values stored in a variable called spam, how would you assign the value &#39;hello&#39; as the third value? (Assume [2, 4, 6, 8, 10] are in spam.)"
   ]
  },
  {
   "cell_type": "code",
   "execution_count": 28,
   "id": "c4b4175b",
   "metadata": {},
   "outputs": [
    {
     "name": "stdout",
     "output_type": "stream",
     "text": [
      "[2, 4, 6, 8, 10]\n"
     ]
    }
   ],
   "source": [
    "spam = [2,4,6,8,10]\n",
    "print(spam)"
   ]
  },
  {
   "cell_type": "code",
   "execution_count": 29,
   "id": "c5b65cb7",
   "metadata": {},
   "outputs": [],
   "source": [
    "spam.insert(2,\"hello\")"
   ]
  },
  {
   "cell_type": "code",
   "execution_count": 30,
   "id": "9ef67002",
   "metadata": {},
   "outputs": [
    {
     "data": {
      "text/plain": [
       "[2, 4, 'hello', 6, 8, 10]"
      ]
     },
     "execution_count": 30,
     "metadata": {},
     "output_type": "execute_result"
    }
   ],
   "source": [
    "spam"
   ]
  },
  {
   "cell_type": "markdown",
   "id": "c462734f",
   "metadata": {},
   "source": [
    "- Let&#39;s pretend the spam includes the list  [&#39;a&#39;, &#39;b&#39;, &#39;c&#39;, &#39;d&#39;] for the next three queries."
   ]
  },
  {
   "cell_type": "markdown",
   "id": "c0fbb1bb",
   "metadata": {},
   "source": [
    "# 3. What is the value of spam[int(int(&#39;3&#39; * 2) / 11)]?"
   ]
  },
  {
   "cell_type": "markdown",
   "id": "a58a038b",
   "metadata": {},
   "source": [
    "Ans :\n",
    "- '3'*2 is equal to string 33, this is passed to int() before being divided by 11. This eventually evaluates to 3, spam[3] is eqaul to 'd'"
   ]
  },
  {
   "cell_type": "code",
   "execution_count": 4,
   "id": "e74333dd",
   "metadata": {},
   "outputs": [],
   "source": [
    "spam = ['a','b','c','d']"
   ]
  },
  {
   "cell_type": "code",
   "execution_count": 5,
   "id": "d7db6dd9",
   "metadata": {},
   "outputs": [
    {
     "data": {
      "text/plain": [
       "'d'"
      ]
     },
     "execution_count": 5,
     "metadata": {},
     "output_type": "execute_result"
    }
   ],
   "source": [
    "spam[int(int('3'*2)/11)]"
   ]
  },
  {
   "cell_type": "markdown",
   "id": "9eb801e1",
   "metadata": {},
   "source": [
    "# 4. What is the value of spam[-1]?"
   ]
  },
  {
   "cell_type": "code",
   "execution_count": 48,
   "id": "efdcf468",
   "metadata": {},
   "outputs": [
    {
     "data": {
      "text/plain": [
       "'d'"
      ]
     },
     "execution_count": 48,
     "metadata": {},
     "output_type": "execute_result"
    }
   ],
   "source": [
    "spam[-1]  # List supports Negative indexing, Hence spam[-1] is equal to 'd'"
   ]
  },
  {
   "cell_type": "markdown",
   "id": "f8cac7cc",
   "metadata": {},
   "source": [
    "# 5. What is the value of spam[:2]?"
   ]
  },
  {
   "cell_type": "code",
   "execution_count": 6,
   "id": "3696a83b",
   "metadata": {},
   "outputs": [
    {
     "data": {
      "text/plain": [
       "['a', 'b']"
      ]
     },
     "execution_count": 6,
     "metadata": {},
     "output_type": "execute_result"
    }
   ],
   "source": [
    "spam = ['a','b','c','d']\n",
    "spam[:2]   # this statement returns all the elements in the list spam from 0 to 2 including 2 "
   ]
  },
  {
   "cell_type": "markdown",
   "id": "b9112ea3",
   "metadata": {},
   "source": [
    "- Let&#39;s pretend bacon has the list [3.14, &#39;cat,&#39; 11, &#39;cat,&#39; True] for the next three questions."
   ]
  },
  {
   "cell_type": "markdown",
   "id": "c91e6a5c",
   "metadata": {},
   "source": [
    "# 6. What is the value of bacon.index(&#39;cat&#39;)?"
   ]
  },
  {
   "cell_type": "markdown",
   "id": "929fcfd8",
   "metadata": {},
   "source": [
    "Ans:\n",
    "    \n",
    "- The Value of bacon.index('cat') is 1. Index method returns the index of first occurence of 'cat'"
   ]
  },
  {
   "cell_type": "code",
   "execution_count": 55,
   "id": "2f5dcb58",
   "metadata": {},
   "outputs": [
    {
     "name": "stdout",
     "output_type": "stream",
     "text": [
      "bacon.index('cat') --> 1\n"
     ]
    }
   ],
   "source": [
    "bacon = [3.14,'cat', 11, 'cat', True]\n",
    "print(\"bacon.index('cat') -->\",bacon.index('cat'))"
   ]
  },
  {
   "cell_type": "markdown",
   "id": "946a5437",
   "metadata": {},
   "source": [
    "# 7. How does bacon.append(99) change the look of the list value in bacon?"
   ]
  },
  {
   "cell_type": "markdown",
   "id": "ce50f5e1",
   "metadata": {},
   "source": [
    "Ans :\n",
    "The append method adds new elements to the end of the list"
   ]
  },
  {
   "cell_type": "code",
   "execution_count": 61,
   "id": "bb8826fe",
   "metadata": {},
   "outputs": [
    {
     "name": "stdout",
     "output_type": "stream",
     "text": [
      "[3.14, 'cat', 11, 'cat', True]\n",
      "list will look like this after append(99) -->  [3.14, 'cat', 11, 'cat', True, 99]\n"
     ]
    }
   ],
   "source": [
    "bacon = [3.14,'cat', 11, 'cat', True]\n",
    "print(bacon)\n",
    "bacon.append(99)\n",
    "print(\"list will look like this after append(99) --> \", bacon)"
   ]
  },
  {
   "cell_type": "markdown",
   "id": "bc272dc0",
   "metadata": {},
   "source": [
    "# 8. How does bacon.remove(&#39;cat&#39;) change the look of the list in bacon?"
   ]
  },
  {
   "cell_type": "markdown",
   "id": "b1f48532",
   "metadata": {},
   "source": [
    "Ans :\n",
    "\n",
    "- bacon.remove('cat') removes the first occurance of string 'cat' in the list"
   ]
  },
  {
   "cell_type": "code",
   "execution_count": 63,
   "id": "9d14fd06",
   "metadata": {},
   "outputs": [
    {
     "name": "stdout",
     "output_type": "stream",
     "text": [
      "[3.14, 'cat', 11, 'cat', True]\n",
      "list will look like this after bacon.remove('cat') -->  [3.14, 11, 'cat', True]\n"
     ]
    }
   ],
   "source": [
    "bacon = [3.14,'cat', 11, 'cat', True]\n",
    "print(bacon)\n",
    "bacon.remove('cat')\n",
    "print(\"list will look like this after bacon.remove('cat') --> \", bacon)"
   ]
  },
  {
   "cell_type": "markdown",
   "id": "470d6afe",
   "metadata": {},
   "source": [
    "# 9. What are the list concatenation and list replication operators?"
   ]
  },
  {
   "cell_type": "markdown",
   "id": "eb23cfa0",
   "metadata": {},
   "source": [
    "Ans:\n",
    "The operator for list concatenation is +, while the operator for list replication is *"
   ]
  },
  {
   "cell_type": "code",
   "execution_count": 66,
   "id": "f69de50e",
   "metadata": {},
   "outputs": [
    {
     "name": "stdout",
     "output_type": "stream",
     "text": [
      "['sa', 'hil', 'jo', 'san', 'da', 'ta', 12, 24, 'ineuron']\n",
      "[12, 24, 'ineuron', 12, 24, 'ineuron']\n"
     ]
    }
   ],
   "source": [
    "# Example \n",
    "list_1 = ['sa','hil','jo','san','da','ta']\n",
    "list_2 = [12,24,'ineuron']\n",
    "print(list_1 + list_2)  # list concatenation\n",
    "print(list_2*2)         # list replication"
   ]
  },
  {
   "cell_type": "markdown",
   "id": "de21d698",
   "metadata": {},
   "source": [
    "# 10. What is difference between the list methods append() and insert()?"
   ]
  },
  {
   "cell_type": "markdown",
   "id": "709d0cb8",
   "metadata": {},
   "source": [
    "Ans:\n",
    "append() adds the value at the end of the list, while insert() adds the value at any index in the list."
   ]
  },
  {
   "cell_type": "code",
   "execution_count": 67,
   "id": "4cc87c50",
   "metadata": {},
   "outputs": [
    {
     "name": "stdout",
     "output_type": "stream",
     "text": [
      "[2, 4, 5, 4, 8, 101]\n",
      "[2, 4, 'insert', 5, 4, 8, 101]\n"
     ]
    }
   ],
   "source": [
    "# Example\n",
    "list = [2,4,5,4,8]\n",
    "list.append(101)\n",
    "print(list)\n",
    "list.insert(2,\"insert\")\n",
    "print(list)"
   ]
  },
  {
   "cell_type": "markdown",
   "id": "c685073b",
   "metadata": {},
   "source": [
    "# 11. What are the two methods for removing items from a list?"
   ]
  },
  {
   "cell_type": "markdown",
   "id": "c7d39cfe",
   "metadata": {},
   "source": [
    "Ans:\n",
    "The del statement and the remove() method are two ways to remove values from a list."
   ]
  },
  {
   "cell_type": "markdown",
   "id": "9bfb2f8c",
   "metadata": {},
   "source": [
    "# 12. Describe how list values and string values are identical."
   ]
  },
  {
   "cell_type": "markdown",
   "id": "407848fa",
   "metadata": {},
   "source": [
    "Ans:\n",
    "Both lists and strings can be passed to len() function, have indexes and slices, be used in for loops, be concatenated or replicated, and be used with the in and not in operators."
   ]
  },
  {
   "cell_type": "markdown",
   "id": "38b6ab9b",
   "metadata": {},
   "source": [
    "# 13. What&#39;s the difference between tuples and lists?"
   ]
  },
  {
   "cell_type": "markdown",
   "id": "533d62b1",
   "metadata": {},
   "source": [
    "Ans:\n",
    "\n",
    "- List are represented using square breackets [] , While tuples use parentheses () .\n",
    "- Lists are Mutable, Indexable and Slicable. they can have values added, removed, or changed.\n",
    "- Tuples are Immutable but Indexable and Slicable. the tuple values cannot be changed at all."
   ]
  },
  {
   "cell_type": "markdown",
   "id": "cfddfc56",
   "metadata": {},
   "source": [
    "# 14. How do you type a tuple value that only contains the integer 42?"
   ]
  },
  {
   "cell_type": "markdown",
   "id": "1545ca18",
   "metadata": {},
   "source": [
    "Ans:\n",
    "- (42,) (Note: The comma after 42 is mandatory, otherwise it is considered as a int by python interpreter) "
   ]
  },
  {
   "cell_type": "code",
   "execution_count": 68,
   "id": "b5edf599",
   "metadata": {},
   "outputs": [
    {
     "name": "stdout",
     "output_type": "stream",
     "text": [
      "<class 'int'>\n",
      "<class 'tuple'>\n"
     ]
    }
   ],
   "source": [
    "# Example\n",
    "tuple1 = (42)\n",
    "tuple2 = (42,)\n",
    "print(type(tuple1))\n",
    "print(type(tuple2))"
   ]
  },
  {
   "cell_type": "markdown",
   "id": "27fd6408",
   "metadata": {},
   "source": [
    "# 15. How do you get a list value&#39;s tuple form? How do you get a tuple value&#39;s list form?"
   ]
  },
  {
   "cell_type": "markdown",
   "id": "3e84f448",
   "metadata": {},
   "source": [
    "Ans:\n",
    "- The tuple() and list() funtions are used respectively to covert a list to tuple of vice versa"
   ]
  },
  {
   "cell_type": "code",
   "execution_count": 1,
   "id": "cb25aad1",
   "metadata": {},
   "outputs": [
    {
     "name": "stdout",
     "output_type": "stream",
     "text": [
      "list to tuple conversion --> (1, 2, 3, 4, 5, 7)\n",
      "tuple to list conversion --> [1, 2, 3, 4, 5, 7]\n"
     ]
    }
   ],
   "source": [
    "# Example\n",
    "l = [1,2,3,4,5,7]\n",
    "list_tup = tuple(l)\n",
    "print(\"list to tuple conversion -->\", list_tup)\n",
    "tup_list = list(list_tup)\n",
    "print(\"tuple to list conversion -->\",tup_list)"
   ]
  },
  {
   "cell_type": "markdown",
   "id": "7235b19e",
   "metadata": {},
   "source": [
    "# 16. Variables that &quot;contain&quot; list values are not necessarily lists themselves. Instead, what do they contain?"
   ]
  },
  {
   "cell_type": "markdown",
   "id": "a0f3fccb",
   "metadata": {},
   "source": [
    "Ans:\n",
    "They contain references to list values."
   ]
  },
  {
   "cell_type": "markdown",
   "id": "5e8597cf",
   "metadata": {},
   "source": [
    "# 17. How do you distinguish between copy.copy() and copy.deepcopy()?"
   ]
  },
  {
   "cell_type": "markdown",
   "id": "9cc8e789",
   "metadata": {},
   "source": [
    "And:\n",
    "- The copy.copy() function will do a shallow copy of a list,\n",
    "- while the copy.deepcopy() function will do a deep copy of a list. \n",
    "- That is, only copy.deepcopy() will duplicate any lists inside the list."
   ]
  }
 ],
 "metadata": {
  "kernelspec": {
   "display_name": "Python 3 (ipykernel)",
   "language": "python",
   "name": "python3"
  },
  "language_info": {
   "codemirror_mode": {
    "name": "ipython",
    "version": 3
   },
   "file_extension": ".py",
   "mimetype": "text/x-python",
   "name": "python",
   "nbconvert_exporter": "python",
   "pygments_lexer": "ipython3",
   "version": "3.9.12"
  }
 },
 "nbformat": 4,
 "nbformat_minor": 5
}
