{
 "cells": [
  {
   "cell_type": "markdown",
   "id": "4b6a082c",
   "metadata": {},
   "source": [
    "# Python Programming Basic Assignment 1"
   ]
  },
  {
   "cell_type": "markdown",
   "id": "6d6c542b",
   "metadata": {},
   "source": [
    "# 1. Write a Python program to print &quot;Hello Python&quot;?"
   ]
  },
  {
   "cell_type": "code",
   "execution_count": 1,
   "id": "0aea8cd9",
   "metadata": {},
   "outputs": [
    {
     "name": "stdout",
     "output_type": "stream",
     "text": [
      "Hello Python\n"
     ]
    }
   ],
   "source": [
    "print(\"Hello Python\")"
   ]
  },
  {
   "cell_type": "markdown",
   "id": "c8bfff12",
   "metadata": {},
   "source": [
    "# 2. Write a Python program to do arithmetical operations addition and division.?"
   ]
  },
  {
   "cell_type": "code",
   "execution_count": 9,
   "id": "b8045ec3",
   "metadata": {},
   "outputs": [
    {
     "name": "stdout",
     "output_type": "stream",
     "text": [
      "\n",
      "Enter 1st Number : 10\n",
      "Enter 2nd Number : 20\n",
      "The division of 10 by 20 is : 0.5\n",
      "The addition of 10 and 20 is : 30\n",
      "\n",
      "Enter 1st Number : 2124\n",
      "Enter 2nd Number : 0\n",
      "Denominator is zero so division cannot be done.\n",
      "The addition of 2124 and 0 is : 2124\n",
      "\n",
      "Enter 1st Number : 2145\n",
      "Enter 2nd Number : 5\n",
      "The division of 2145 by 5 is : 429.0\n",
      "The addition of 2145 and 5 is : 2150\n",
      "\n",
      "Enter 1st Number : sa\n",
      "please enter only integer\n",
      "The addition of 2145 and 5 is : 2150\n"
     ]
    }
   ],
   "source": [
    "while True:\n",
    "    try:      \n",
    "        a = int(input(\"\\nEnter 1st Number : \"))\n",
    "        b = int(input(\"Enter 2nd Number : \"))     \n",
    "        div = a/b    \n",
    "        print(\"The division of {} by {} is : {}\". format(a,b,div))\n",
    "    except ZeroDivisionError:      \n",
    "        print(\"Denominator is zero so division cannot be done.\")\n",
    "    except ValueError:\n",
    "        print(\"please enter only integer\")\n",
    "        break\n",
    "    finally:          \n",
    "        add = a + b\n",
    "        print(\"The addition of {} and {} is : {}\". format(a,b,add))\n",
    "    \n"
   ]
  },
  {
   "cell_type": "markdown",
   "id": "f6efd7bd",
   "metadata": {},
   "source": [
    "# 3. Write a Python program to find the area of a triangle?"
   ]
  },
  {
   "cell_type": "code",
   "execution_count": 7,
   "id": "fdcfaa1e",
   "metadata": {},
   "outputs": [
    {
     "name": "stdout",
     "output_type": "stream",
     "text": [
      "Enter the Height of Triangle : 25\n",
      "Enter the base of Triangle : 10\n",
      "\n",
      "Area of triangle :  125.0\n"
     ]
    }
   ],
   "source": [
    "height = int(input(\"Enter the Height of Triangle : \"))\n",
    "base = int(input(\"Enter the base of Triangle : \"))\n",
    "\n",
    "print(\"\\nArea of triangle : \",(0.5*height*base))\n"
   ]
  },
  {
   "cell_type": "markdown",
   "id": "5306fde5",
   "metadata": {},
   "source": [
    "# 4. Write a Python program to swap two variables?"
   ]
  },
  {
   "cell_type": "code",
   "execution_count": 42,
   "id": "39a98217",
   "metadata": {},
   "outputs": [
    {
     "name": "stdout",
     "output_type": "stream",
     "text": [
      "Enter value of A : 124\n",
      "Enter value of B : 54\n",
      "\n",
      "The value of A is 124 and B is 54\n",
      "After swaping the value of A is 54 and B is 124\n"
     ]
    }
   ],
   "source": [
    "a = int(input(\"Enter value of A : \"))\n",
    "b = int(input(\"Enter value of B : \"))\n",
    "\n",
    "print(\"\\nThe value of A is {} and B is {}\". format(a,b))\n",
    "\n",
    "c = a \n",
    "a = b\n",
    "b = c\n",
    "\n",
    "print(\"After swaping the value of A is {} and B is {}\". format(a,b))"
   ]
  },
  {
   "cell_type": "markdown",
   "id": "95502f2b",
   "metadata": {},
   "source": [
    "# 5. Write a Python program to generate a random number?"
   ]
  },
  {
   "cell_type": "code",
   "execution_count": 56,
   "id": "ec9bfee9",
   "metadata": {},
   "outputs": [
    {
     "name": "stdout",
     "output_type": "stream",
     "text": [
      "Random Number --> 6957\n",
      "Random Number --> 3\n"
     ]
    }
   ],
   "source": [
    "from random import randint\n",
    "\n",
    "def genRandomNum(start = 0, end = 100000):\n",
    "    print(\"Random Number -->\", randint(start,end))\n",
    "\n",
    "    \n",
    "# Generating random number withour argument\n",
    "genRandomNum()\n",
    "\n",
    "# Generating random number with argument\n",
    "genRandomNum(0,10)"
   ]
  }
 ],
 "metadata": {
  "kernelspec": {
   "display_name": "Python 3 (ipykernel)",
   "language": "python",
   "name": "python3"
  },
  "language_info": {
   "codemirror_mode": {
    "name": "ipython",
    "version": 3
   },
   "file_extension": ".py",
   "mimetype": "text/x-python",
   "name": "python",
   "nbconvert_exporter": "python",
   "pygments_lexer": "ipython3",
   "version": "3.9.12"
  }
 },
 "nbformat": 4,
 "nbformat_minor": 5
}
