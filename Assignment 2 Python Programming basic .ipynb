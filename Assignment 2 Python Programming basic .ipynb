{
 "cells": [
  {
   "cell_type": "markdown",
   "id": "89766639",
   "metadata": {},
   "source": [
    "# Assignment 2 Solutions [ Python Programming basic ]"
   ]
  },
  {
   "cell_type": "markdown",
   "id": "706fbc33",
   "metadata": {},
   "source": [
    "# 1. Write a Python program to convert kilometers to miles?"
   ]
  },
  {
   "cell_type": "code",
   "execution_count": 21,
   "id": "d00df655",
   "metadata": {},
   "outputs": [
    {
     "name": "stdout",
     "output_type": "stream",
     "text": [
      "Enter kilometers : 1024\n"
     ]
    },
    {
     "data": {
      "text/plain": [
       "'1024.0 kilometer --> 636.28409856 miles'"
      ]
     },
     "execution_count": 21,
     "metadata": {},
     "output_type": "execute_result"
    }
   ],
   "source": [
    "km = float(input(\"Enter kilometers : \"))\n",
    "\n",
    "def km_to_miles(km):\n",
    "    miles = km * 0.62137119\n",
    "    return \"{} kilometer --> {} miles\".format(km,miles)\n",
    "\n",
    "km_to_miles(km)"
   ]
  },
  {
   "cell_type": "markdown",
   "id": "37c90f15",
   "metadata": {},
   "source": [
    "# 2. Write a Python program to convert Celsius to Fahrenheit?"
   ]
  },
  {
   "cell_type": "code",
   "execution_count": 25,
   "id": "1e36379c",
   "metadata": {},
   "outputs": [
    {
     "name": "stdout",
     "output_type": "stream",
     "text": [
      "Enter Celcius : 98\n"
     ]
    },
    {
     "data": {
      "text/plain": [
       "'98 celsius --> 208.4 Fahenheit'"
      ]
     },
     "execution_count": 25,
     "metadata": {},
     "output_type": "execute_result"
    }
   ],
   "source": [
    "cel = int(input(\"Enter Celcius : \"))\n",
    "\n",
    "def cel_to_fah(cel):    \n",
    "    return (\"{} celsius --> {} Fahenheit\".format(cel,(cel * 1.8)+32) )\n",
    "\n",
    "cel_to_fah(cel)"
   ]
  },
  {
   "cell_type": "markdown",
   "id": "ecb2bb10",
   "metadata": {},
   "source": [
    "# 3.Write a Python program to display calender ?"
   ]
  },
  {
   "cell_type": "code",
   "execution_count": 12,
   "id": "273151a5",
   "metadata": {},
   "outputs": [
    {
     "name": "stdout",
     "output_type": "stream",
     "text": [
      "Enter Calender Year : 2022\n",
      "                                  2022\n",
      "\n",
      "      January                   February                   March\n",
      "Mo Tu We Th Fr Sa Su      Mo Tu We Th Fr Sa Su      Mo Tu We Th Fr Sa Su\n",
      "                1  2          1  2  3  4  5  6          1  2  3  4  5  6\n",
      " 3  4  5  6  7  8  9       7  8  9 10 11 12 13       7  8  9 10 11 12 13\n",
      "10 11 12 13 14 15 16      14 15 16 17 18 19 20      14 15 16 17 18 19 20\n",
      "17 18 19 20 21 22 23      21 22 23 24 25 26 27      21 22 23 24 25 26 27\n",
      "24 25 26 27 28 29 30      28                        28 29 30 31\n",
      "31\n",
      "\n",
      "       April                      May                       June\n",
      "Mo Tu We Th Fr Sa Su      Mo Tu We Th Fr Sa Su      Mo Tu We Th Fr Sa Su\n",
      "             1  2  3                         1             1  2  3  4  5\n",
      " 4  5  6  7  8  9 10       2  3  4  5  6  7  8       6  7  8  9 10 11 12\n",
      "11 12 13 14 15 16 17       9 10 11 12 13 14 15      13 14 15 16 17 18 19\n",
      "18 19 20 21 22 23 24      16 17 18 19 20 21 22      20 21 22 23 24 25 26\n",
      "25 26 27 28 29 30         23 24 25 26 27 28 29      27 28 29 30\n",
      "                          30 31\n",
      "\n",
      "        July                     August                  September\n",
      "Mo Tu We Th Fr Sa Su      Mo Tu We Th Fr Sa Su      Mo Tu We Th Fr Sa Su\n",
      "             1  2  3       1  2  3  4  5  6  7                1  2  3  4\n",
      " 4  5  6  7  8  9 10       8  9 10 11 12 13 14       5  6  7  8  9 10 11\n",
      "11 12 13 14 15 16 17      15 16 17 18 19 20 21      12 13 14 15 16 17 18\n",
      "18 19 20 21 22 23 24      22 23 24 25 26 27 28      19 20 21 22 23 24 25\n",
      "25 26 27 28 29 30 31      29 30 31                  26 27 28 29 30\n",
      "\n",
      "      October                   November                  December\n",
      "Mo Tu We Th Fr Sa Su      Mo Tu We Th Fr Sa Su      Mo Tu We Th Fr Sa Su\n",
      "                1  2          1  2  3  4  5  6                1  2  3  4\n",
      " 3  4  5  6  7  8  9       7  8  9 10 11 12 13       5  6  7  8  9 10 11\n",
      "10 11 12 13 14 15 16      14 15 16 17 18 19 20      12 13 14 15 16 17 18\n",
      "17 18 19 20 21 22 23      21 22 23 24 25 26 27      19 20 21 22 23 24 25\n",
      "24 25 26 27 28 29 30      28 29 30                  26 27 28 29 30 31\n",
      "31\n",
      "\n"
     ]
    }
   ],
   "source": [
    "import calendar\n",
    "\n",
    "year = int(input(\"Enter Calender Year : \"))\n",
    "print(calendar.calendar(year))"
   ]
  },
  {
   "cell_type": "markdown",
   "id": "033a1c74",
   "metadata": {},
   "source": [
    "# 4.Write a Python program to solve quadartic equation ?"
   ]
  },
  {
   "cell_type": "code",
   "execution_count": 29,
   "id": "ff7de2f2",
   "metadata": {},
   "outputs": [
    {
     "name": "stdout",
     "output_type": "stream",
     "text": [
      "General Form of Quadratic Equation :- ax**2 + bx + c = 0\n",
      "\n",
      "Enter a (a!=0) : -1\n",
      "Enter b : -1\n",
      "Enter c : 2\n",
      "\n",
      "Entered equation is : -1x**2 + -1x + 2 = 0\n",
      "Roots are real and distinct\n",
      "\n",
      "The solutions are (-2-0j) and (1-0j)\n"
     ]
    }
   ],
   "source": [
    "import cmath\n",
    "\n",
    "print(\"General Form of Quadratic Equation :- ax**2 + bx + c = 0\")\n",
    "\n",
    "print(\"\")\n",
    "a = int(input(\"Enter a (a!=0) : \"))\n",
    "b = int(input(\"Enter b : \"))\n",
    "c = int(input(\"Enter c : \"))\n",
    "\n",
    "d = (b**2)-(4*a*c)                                             # d is discriminant\n",
    "\n",
    "print(f\"\\nEntered equation is : {a}x**2 + {b}x + {c} = 0\")\n",
    "\n",
    "\n",
    "sol1 = (-b + cmath.sqrt(d))/(2*a)\n",
    "sol2 = (-b - cmath.sqrt(d))/(2*a)\n",
    "\n",
    "if d == 0:\n",
    "    print(\"Roots are real\")\n",
    "elif d > 0:\n",
    "    print(\"Roots are real and distinct\")\n",
    "elif d < 0:\n",
    "    print(\"Roots are complex\")\n",
    "    \n",
    "print(\"\\nThe solutions are {} and {}\".format(sol1,sol2))"
   ]
  },
  {
   "cell_type": "markdown",
   "id": "61354547",
   "metadata": {},
   "source": [
    "# 5.Write a Python program to swap two variables without temp variable ?"
   ]
  },
  {
   "cell_type": "code",
   "execution_count": 32,
   "id": "70156a74",
   "metadata": {},
   "outputs": [
    {
     "name": "stdout",
     "output_type": "stream",
     "text": [
      "Enter 1st number : 10\n",
      "Enter 2nd number : 54\n",
      "Before Swapping a is 10 and b is 54\n",
      "After Swapping a is 54 and b is 10\n"
     ]
    }
   ],
   "source": [
    "a = int(input(\"Enter 1st number : \"))\n",
    "b = int(input(\"Enter 2nd number : \"))\n",
    "\n",
    "def swapnum(a,b):\n",
    "    print(\"Before Swapping a is {} and b is {}\".format(a,b))\n",
    "    a = a+b \n",
    "    b = a-b\n",
    "    a = a-b\n",
    "    print(\"After Swapping a is {} and b is {}\".format(a,b))\n",
    "    \n",
    "swapnum(a,b)"
   ]
  },
  {
   "cell_type": "code",
   "execution_count": 33,
   "id": "59bb8414",
   "metadata": {},
   "outputs": [
    {
     "name": "stdout",
     "output_type": "stream",
     "text": [
      "Before Swapping a is 245 and b is 1\n",
      "After Swapping a is 1 and b is 245\n"
     ]
    }
   ],
   "source": [
    "swapnum(245,1)"
   ]
  },
  {
   "cell_type": "code",
   "execution_count": null,
   "id": "50d4b810",
   "metadata": {},
   "outputs": [],
   "source": []
  }
 ],
 "metadata": {
  "kernelspec": {
   "display_name": "Python 3 (ipykernel)",
   "language": "python",
   "name": "python3"
  },
  "language_info": {
   "codemirror_mode": {
    "name": "ipython",
    "version": 3
   },
   "file_extension": ".py",
   "mimetype": "text/x-python",
   "name": "python",
   "nbconvert_exporter": "python",
   "pygments_lexer": "ipython3",
   "version": "3.9.12"
  }
 },
 "nbformat": 4,
 "nbformat_minor": 5
}
