{
 "cells": [
  {
   "cell_type": "markdown",
   "id": "b8d0f3f9",
   "metadata": {},
   "source": [
    "# Assignment 5 Solution [Python Basic]"
   ]
  },
  {
   "cell_type": "markdown",
   "id": "d69561a0",
   "metadata": {},
   "source": [
    "# 1. What does an empty dictionary&#39;s code look like?"
   ]
  },
  {
   "cell_type": "markdown",
   "id": "5594a016",
   "metadata": {},
   "source": [
    "Ans:\n",
    "An empty dictionary is often represented by two empty curly brackets.\n",
    "d = {  }"
   ]
  },
  {
   "cell_type": "markdown",
   "id": "58517d48",
   "metadata": {},
   "source": [
    "# 2. What is the value of a dictionary value with the key &#39;foo&#39; and the value 42?"
   ]
  },
  {
   "cell_type": "markdown",
   "id": "447390b4",
   "metadata": {},
   "source": [
    "{ 'foo' : 42 }"
   ]
  },
  {
   "cell_type": "markdown",
   "id": "3ebd1211",
   "metadata": {},
   "source": [
    "# 3. What is the most significant distinction between a dictionary and a list?"
   ]
  },
  {
   "cell_type": "markdown",
   "id": "b98830e5",
   "metadata": {},
   "source": [
    "Ans:\n",
    "- Dictionaries are represented by curly brackets { } where as listed are represented by square brackets [ ]\n",
    "- The Items stored in a dictionary are Unordered , while the items in a list are ordered"
   ]
  },
  {
   "cell_type": "markdown",
   "id": "9015cde4",
   "metadata": {},
   "source": [
    "# 4. What happens if you try to access spam[&#39;foo&#39;] if spam is {&#39;bar&#39;: 100}?"
   ]
  },
  {
   "cell_type": "markdown",
   "id": "03c66df8",
   "metadata": {},
   "source": [
    "Ans:\n",
    "we will get a keyError\n",
    "\n",
    "KeyError: 'foo'"
   ]
  },
  {
   "cell_type": "code",
   "execution_count": 7,
   "id": "929b6d36",
   "metadata": {},
   "outputs": [
    {
     "ename": "KeyError",
     "evalue": "'foo'",
     "output_type": "error",
     "traceback": [
      "\u001b[1;31m---------------------------------------------------------------------------\u001b[0m",
      "\u001b[1;31mKeyError\u001b[0m                                  Traceback (most recent call last)",
      "Input \u001b[1;32mIn [7]\u001b[0m, in \u001b[0;36m<cell line: 2>\u001b[1;34m()\u001b[0m\n\u001b[0;32m      1\u001b[0m spam \u001b[38;5;241m=\u001b[39m {\u001b[38;5;124m'\u001b[39m\u001b[38;5;124mbar\u001b[39m\u001b[38;5;124m'\u001b[39m:\u001b[38;5;241m100\u001b[39m}\n\u001b[1;32m----> 2\u001b[0m \u001b[43mspam\u001b[49m\u001b[43m[\u001b[49m\u001b[38;5;124;43m'\u001b[39;49m\u001b[38;5;124;43mfoo\u001b[39;49m\u001b[38;5;124;43m'\u001b[39;49m\u001b[43m]\u001b[49m\n",
      "\u001b[1;31mKeyError\u001b[0m: 'foo'"
     ]
    }
   ],
   "source": [
    "# Example\n",
    "spam = {'bar':100}\n",
    "spam['foo']"
   ]
  },
  {
   "cell_type": "markdown",
   "id": "acfd9d2a",
   "metadata": {},
   "source": [
    "# 5. If a dictionary is stored in spam, what is the difference between the expressions &#39;cat&#39; in spam and&#39;cat&#39; in spam.keys()?"
   ]
  },
  {
   "cell_type": "markdown",
   "id": "f06cce78",
   "metadata": {},
   "source": [
    "Ans:\n",
    "There is no difference . The operator checks whether a value exits as a key in the dictionary or not"
   ]
  },
  {
   "cell_type": "markdown",
   "id": "bb4b9a57",
   "metadata": {},
   "source": [
    "# 6. If a dictionary is stored in spam, what is the difference between the expressions &#39;cat&#39; in spam and&#39;cat&#39; in spam.values()?"
   ]
  },
  {
   "cell_type": "markdown",
   "id": "a1a1c04f",
   "metadata": {},
   "source": [
    "Ans:\n",
    "- 'cat' in spam checks whether there is a 'cat' key in the dictionary,\n",
    "- while 'cat' in spam.values() checks whether there is a value 'cat' for one of the keys in spam."
   ]
  },
  {
   "cell_type": "markdown",
   "id": "d8fe53da",
   "metadata": {},
   "source": [
    "# 7. What is a shortcut for the following code?\n",
    "\n",
    "- if &#39;color&#39; not in spam:\n",
    "- spam[&#39;color&#39;] = &#39;black&#39;\n"
   ]
  },
  {
   "cell_type": "code",
   "execution_count": 8,
   "id": "11dc1a92",
   "metadata": {},
   "outputs": [
    {
     "data": {
      "text/plain": [
       "'black'"
      ]
     },
     "execution_count": 8,
     "metadata": {},
     "output_type": "execute_result"
    }
   ],
   "source": [
    "spam.setdefault('color','black')"
   ]
  },
  {
   "cell_type": "markdown",
   "id": "d98425af",
   "metadata": {},
   "source": [
    "# 8. How do you &quot;pretty print&quot; dictionary values using which module and function?"
   ]
  },
  {
   "cell_type": "markdown",
   "id": "621065a0",
   "metadata": {},
   "source": [
    "Ans:\n",
    "we can pretty print a dictionary using three fucnctions.\n",
    "\n",
    "1) by using pprint function of pprint module\n",
    "- Note: pprint() function doesnot prettify nested dictionaries\n",
    "\n",
    "2) by using dumps() method of json mosule\n",
    "\n",
    "3) by using dumps() method of yami module"
   ]
  },
  {
   "cell_type": "code",
   "execution_count": 29,
   "id": "0735f9a6",
   "metadata": {},
   "outputs": [
    {
     "name": "stdout",
     "output_type": "stream",
     "text": [
      "Printing using print() funtion\n",
      "\n",
      " [{'name': 'ramesh', 'Age': '45', 'Residence': {'Country': 'India', 'City': 'bhopal'}}, {'name': 'anil', 'Age': '34', 'Residence': {'Country': 'UAE', 'City': 'Sharjah'}}, {'name': 'rahil', 'Age': '38', 'Residence': {'Country': 'USA', 'City': 'New york'}}, {'name': 'sohan', 'Age': '45', 'Residence': {'Country': 'India', 'City': 'delhi'}}]\n",
      "----------------------------------------------------------------------\n",
      "Printing using pprint() function\n",
      "\n",
      "[{'Age': '45',\n",
      "  'Residence': {'City': 'bhopal', 'Country': 'India'},\n",
      "  'name': 'ramesh'},\n",
      " {'Age': '34',\n",
      "  'Residence': {'City': 'Sharjah', 'Country': 'UAE'},\n",
      "  'name': 'anil'},\n",
      " {'Age': '38',\n",
      "  'Residence': {'City': 'New york', 'Country': 'USA'},\n",
      "  'name': 'rahil'},\n",
      " {'Age': '45',\n",
      "  'Residence': {'City': 'delhi', 'Country': 'India'},\n",
      "  'name': 'sohan'}]\n",
      "----------------------------------------------------------------------\n",
      "Printing using dumps() method\n",
      " [\n",
      "    {\n",
      "        \"name\": \"ramesh\",\n",
      "        \"Age\": \"45\",\n",
      "        \"Residence\": {\n",
      "            \"Country\": \"India\",\n",
      "            \"City\": \"bhopal\"\n",
      "        }\n",
      "    },\n",
      "    {\n",
      "        \"name\": \"anil\",\n",
      "        \"Age\": \"34\",\n",
      "        \"Residence\": {\n",
      "            \"Country\": \"UAE\",\n",
      "            \"City\": \"Sharjah\"\n",
      "        }\n",
      "    },\n",
      "    {\n",
      "        \"name\": \"rahil\",\n",
      "        \"Age\": \"38\",\n",
      "        \"Residence\": {\n",
      "            \"Country\": \"USA\",\n",
      "            \"City\": \"New york\"\n",
      "        }\n",
      "    },\n",
      "    {\n",
      "        \"name\": \"sohan\",\n",
      "        \"Age\": \"45\",\n",
      "        \"Residence\": {\n",
      "            \"Country\": \"India\",\n",
      "            \"City\": \"delhi\"\n",
      "        }\n",
      "    }\n",
      "]\n",
      "----------------------------------------------------------------------\n",
      "Printing using dump() method\n",
      "\n",
      " - Age: '45'\n",
      "  Residence:\n",
      "    City: bhopal\n",
      "    Country: India\n",
      "  name: ramesh\n",
      "- Age: '34'\n",
      "  Residence:\n",
      "    City: Sharjah\n",
      "    Country: UAE\n",
      "  name: anil\n",
      "- Age: '38'\n",
      "  Residence:\n",
      "    City: New york\n",
      "    Country: USA\n",
      "  name: rahil\n",
      "- Age: '45'\n",
      "  Residence:\n",
      "    City: delhi\n",
      "    Country: India\n",
      "  name: sohan\n",
      "\n"
     ]
    }
   ],
   "source": [
    "aDict = [\n",
    "    {'name' : 'ramesh', 'Age' : '45', 'Residence' : {'Country':'India','City' : 'bhopal'}},\n",
    "    {'name' : 'anil', 'Age' : '34', 'Residence' : {'Country':'UAE','City' : 'Sharjah'}},\n",
    "    {'name' : 'rahil', 'Age' : '38', 'Residence' : {'Country':'USA','City' : 'New york'}},\n",
    "    {'name' : 'sohan', 'Age' : '45', 'Residence' : {'Country':'India','City' : 'delhi'}}\n",
    "]\n",
    "\n",
    "print(\"Printing using print() funtion\\n\\n\",aDict)\n",
    "print('-'*70)\n",
    "\n",
    "import pprint\n",
    "print(\"Printing using pprint() function\\n\")\n",
    "pprint.pprint(aDict)\n",
    "print('-'*70)\n",
    "\n",
    "import json\n",
    "dump = json.dumps(aDict, indent=4)\n",
    "print(\"Printing using dumps() method\\n\", dump)\n",
    "print('-'*70)\n",
    "\n",
    "import yaml\n",
    "dump = yaml.dump(aDict)\n",
    "print(\"Printing using dump() method\\n\\n\", dump)"
   ]
  }
 ],
 "metadata": {
  "kernelspec": {
   "display_name": "Python 3 (ipykernel)",
   "language": "python",
   "name": "python3"
  },
  "language_info": {
   "codemirror_mode": {
    "name": "ipython",
    "version": 3
   },
   "file_extension": ".py",
   "mimetype": "text/x-python",
   "name": "python",
   "nbconvert_exporter": "python",
   "pygments_lexer": "ipython3",
   "version": "3.9.12"
  }
 },
 "nbformat": 4,
 "nbformat_minor": 5
}
