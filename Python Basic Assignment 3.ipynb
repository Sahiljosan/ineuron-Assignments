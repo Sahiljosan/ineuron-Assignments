{
 "cells": [
  {
   "cell_type": "markdown",
   "id": "b5996d4e",
   "metadata": {},
   "source": [
    "# Assignment 3 Solutions [ Python Basic ]"
   ]
  },
  {
   "cell_type": "markdown",
   "id": "1fb62ead",
   "metadata": {},
   "source": [
    "# Q1. Why are functions advantageous to have in your programs?"
   ]
  },
  {
   "cell_type": "markdown",
   "id": "728e6316",
   "metadata": {},
   "source": [
    "Ans \n",
    "\n",
    "Following are the reason why functions are advantageous to have in program\n",
    "- It reduces the duplication of code. \n",
    "- We can decompose complex problems into simpler pieces by defining functions\n",
    "- Functions improves clarity of the code.\n",
    "- If we define a function then we can reuse that code again and again\n",
    "- also by defining function we can hide the information. or code."
   ]
  },
  {
   "cell_type": "markdown",
   "id": "fc8d7ceb",
   "metadata": {},
   "source": [
    "# Q2. When does the code in a function run: when it&#39;s specified or when it&#39;s called?"
   ]
  },
  {
   "cell_type": "markdown",
   "id": "1b3fdf9a",
   "metadata": {},
   "source": [
    "Ans: \n",
    "\n",
    "The code in a function run when it is called"
   ]
  },
  {
   "cell_type": "markdown",
   "id": "b3b26e2c",
   "metadata": {},
   "source": [
    "# Q3. What statement creates a function?"
   ]
  },
  {
   "cell_type": "markdown",
   "id": "c101135d",
   "metadata": {},
   "source": [
    "Ans: The def statement defines a function"
   ]
  },
  {
   "cell_type": "markdown",
   "id": "aa370c10",
   "metadata": {},
   "source": [
    "Syntax of function:\n",
    "    \n",
    "def function_name(parameters):\n",
    "    \"\"\" document string \"\"\"\n",
    "    ----- code -----\n",
    "    ----- code -----\n",
    "    return value"
   ]
  },
  {
   "cell_type": "markdown",
   "id": "dbc18fa6",
   "metadata": {},
   "source": [
    "# Q4. What is the difference between a function and a function call?"
   ]
  },
  {
   "cell_type": "markdown",
   "id": "b8f6fed8",
   "metadata": {},
   "source": [
    "Ans :\n",
    "\n",
    "Function :\n",
    "A function is a block of code that does a particular operation and returns a result. It usually accepts inputs as parameters and returns a result. The parameters are not mandatory\n",
    "\n",
    "Function Call :\n",
    "A function call is an expression that passes control and arguments (if any) to a function "
   ]
  },
  {
   "cell_type": "markdown",
   "id": "a8cdca59",
   "metadata": {},
   "source": [
    "# Q5. How many global scopes are there in a Python program? How many local scopes?"
   ]
  },
  {
   "cell_type": "markdown",
   "id": "6b3fabcb",
   "metadata": {},
   "source": [
    "Ans \n",
    "- There is one global scope in python program, and a local scope is created whenever a fuction is called."
   ]
  },
  {
   "cell_type": "markdown",
   "id": "52b84abd",
   "metadata": {},
   "source": [
    "# Q6. What happens to variables in a local scope when the function call returns?"
   ]
  },
  {
   "cell_type": "markdown",
   "id": "b7ef0e91",
   "metadata": {},
   "source": [
    "Ans \n",
    "- When a function call returns, the local scope is destroyed, and all the variables in it are forgotten"
   ]
  },
  {
   "cell_type": "markdown",
   "id": "936b0e62",
   "metadata": {},
   "source": [
    "# Q7. What is the concept of a return value? Is it possible to have a return value in an expression?"
   ]
  },
  {
   "cell_type": "markdown",
   "id": "af7268c9",
   "metadata": {},
   "source": [
    "Ans:\n",
    "\n",
    "In general, a function takes arguments (if any), performs some operations, and returns a value (or object). The value that a function returns to the caller is generally known as the function's return value. \n",
    "YES, like any value, return value can be used as a part of an expression."
   ]
  },
  {
   "cell_type": "markdown",
   "id": "fd3c5872",
   "metadata": {},
   "source": [
    "# Q8. If a function does not have a return statement, what is the return value of a call to that function?"
   ]
  },
  {
   "cell_type": "markdown",
   "id": "3fc23212",
   "metadata": {},
   "source": [
    "Ans: If there is no return statement for a function, its return value is None."
   ]
  },
  {
   "cell_type": "markdown",
   "id": "807594c8",
   "metadata": {},
   "source": [
    "# Q9. How do you make a function variable refer to the global variable?"
   ]
  },
  {
   "cell_type": "markdown",
   "id": "71cab279",
   "metadata": {},
   "source": [
    "Ans:\n",
    "If you want to refer to a global variable in a function, you can use the global keyword to declare which variables are global"
   ]
  },
  {
   "cell_type": "markdown",
   "id": "b960e079",
   "metadata": {},
   "source": [
    "# Q10. What is the data type of None?"
   ]
  },
  {
   "cell_type": "markdown",
   "id": "56a049ae",
   "metadata": {},
   "source": [
    "And: The data type of None is Nonetype"
   ]
  },
  {
   "cell_type": "markdown",
   "id": "03057497",
   "metadata": {},
   "source": [
    "# Q11. What does the sentence import areallyourpetsnamederic do?"
   ]
  },
  {
   "cell_type": "markdown",
   "id": "37724bf2",
   "metadata": {},
   "source": [
    "Ans: It imports a module named areallyourpetsnamederic."
   ]
  },
  {
   "cell_type": "markdown",
   "id": "5c087978",
   "metadata": {},
   "source": [
    "# Q12. If you had a bacon() feature in a spam module, what would you call it after importing spam?"
   ]
  },
  {
   "cell_type": "markdown",
   "id": "808b0c3e",
   "metadata": {},
   "source": [
    "Ans :\n",
    "    \n",
    "This function can be called with spam.bacon()."
   ]
  },
  {
   "cell_type": "markdown",
   "id": "648c090a",
   "metadata": {},
   "source": [
    "# Q13. What can you do to save a programme from crashing if it encounters an error?"
   ]
  },
  {
   "cell_type": "markdown",
   "id": "3f3a08e9",
   "metadata": {},
   "source": [
    "Ans:\n",
    "Place the line of code that might cause an error in a try clause and use except block to handle the error.\n",
    "\n",
    "This is called Exceptional Handling"
   ]
  },
  {
   "cell_type": "markdown",
   "id": "220ff306",
   "metadata": {},
   "source": [
    "# Q14. What is the purpose of the try clause? What is the purpose of the except clause?"
   ]
  },
  {
   "cell_type": "markdown",
   "id": "d6b94394",
   "metadata": {},
   "source": [
    "Ans: The code that could potentially cause an error goes in the try clause. The code that executes if an error happens goes in the except clause."
   ]
  },
  {
   "cell_type": "code",
   "execution_count": null,
   "id": "535de583",
   "metadata": {},
   "outputs": [],
   "source": []
  }
 ],
 "metadata": {
  "kernelspec": {
   "display_name": "Python 3 (ipykernel)",
   "language": "python",
   "name": "python3"
  },
  "language_info": {
   "codemirror_mode": {
    "name": "ipython",
    "version": 3
   },
   "file_extension": ".py",
   "mimetype": "text/x-python",
   "name": "python",
   "nbconvert_exporter": "python",
   "pygments_lexer": "ipython3",
   "version": "3.9.12"
  }
 },
 "nbformat": 4,
 "nbformat_minor": 5
}
