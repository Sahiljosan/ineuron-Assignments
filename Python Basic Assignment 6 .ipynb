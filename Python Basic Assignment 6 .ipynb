{
 "cells": [
  {
   "cell_type": "markdown",
   "id": "8c249866",
   "metadata": {},
   "source": [
    "#  1. What are escape characters, and how do you use them?"
   ]
  },
  {
   "cell_type": "markdown",
   "id": "32527d7c",
   "metadata": {},
   "source": [
    "- Ans : \n",
    "Escape characters represent characters in string values that would otherwise be difficult or impossible to type into code. we can use the backslash character to escape a single character or symbol\n",
    "- Example : \\n , \\t"
   ]
  },
  {
   "cell_type": "markdown",
   "id": "fc5160a0",
   "metadata": {},
   "source": [
    "# 2. What do the escape characters n and t stand for?"
   ]
  },
  {
   "cell_type": "markdown",
   "id": "16e13137",
   "metadata": {},
   "source": [
    "- Ans: \n",
    "- \\n stands for New Line\n",
    "- \\t stands for tab"
   ]
  },
  {
   "cell_type": "markdown",
   "id": "0b3f71c3",
   "metadata": {},
   "source": [
    "# 3. What is the way to include backslash characters in a string?"
   ]
  },
  {
   "cell_type": "markdown",
   "id": "6c018c67",
   "metadata": {},
   "source": [
    "- Ans:   \\\\\\ escape character represents the backslash character in a string"
   ]
  },
  {
   "cell_type": "markdown",
   "id": "75a2a786",
   "metadata": {},
   "source": [
    "# 4. The string &quot;Howl&#39;s Moving Castle&quot; is a correct value. Why isn&#39;t the single quote character in theword Howl&#39;s not escaped a problem?"
   ]
  },
  {
   "cell_type": "markdown",
   "id": "8fc17fc1",
   "metadata": {},
   "source": [
    "- Ans: The string \"Howl's Moving Castle\" escaped the problem because it is wrapped inside double quotes. if u want to wrapped it in single qoute then we have to use backslash before single qoute like this. Howl\\\\'s\n",
    "\n",
    "\n",
    "- 'Howl\\\\'s Moving Castle'  --> 'Howl's Moving Castle'"
   ]
  },
  {
   "cell_type": "markdown",
   "id": "c3313b67",
   "metadata": {},
   "source": [
    "# 5. How do you write a string of newlines if you don&#39;t want to use the n character?"
   ]
  },
  {
   "cell_type": "markdown",
   "id": "5049ef95",
   "metadata": {},
   "source": [
    "- Ans: Multiline string allow you to write a string in newlines without using \\n escape character"
   ]
  },
  {
   "cell_type": "code",
   "execution_count": 7,
   "id": "d0038f4c",
   "metadata": {},
   "outputs": [
    {
     "name": "stdout",
     "output_type": "stream",
     "text": [
      "String in line 1\n",
      "String in line 2\n"
     ]
    }
   ],
   "source": [
    "# Example:\n",
    "s = \"\"\"String in line 1\n",
    "String in line 2\"\"\"\n",
    "print(s)"
   ]
  },
  {
   "cell_type": "markdown",
   "id": "542cb5fc",
   "metadata": {},
   "source": [
    "# 6. What are the values of the given expressions?\n",
    "- &#39;Hello, world!&#39;[1]\n",
    "- &#39;Hello, world!&#39;[0:5]\n",
    "- &#39;Hello, world!&#39;[:5]\n",
    "- &#39;Hello, world!&#39;[3:]"
   ]
  },
  {
   "cell_type": "code",
   "execution_count": 13,
   "id": "8fd2c835",
   "metadata": {},
   "outputs": [
    {
     "name": "stdout",
     "output_type": "stream",
     "text": [
      "The value of 'Hello, world!'[1]   --> e\n",
      "The value of 'Hello, world!'[0:5] --> Hello\n",
      "The value of 'Hello, world!'[:5]  --> Hello\n",
      "The value of 'Hello, world!'[3:]  --> lo, world!\n"
     ]
    }
   ],
   "source": [
    "print(\"The value of 'Hello, world!'[1]   -->\", 'Hello, world!'[1])\n",
    "print(\"The value of 'Hello, world!'[0:5] -->\", 'Hello, world!'[0:5])\n",
    "print(\"The value of 'Hello, world!'[:5]  -->\", 'Hello, world!'[:5])\n",
    "print(\"The value of 'Hello, world!'[3:]  -->\", 'Hello, world!'[3:])"
   ]
  },
  {
   "cell_type": "markdown",
   "id": "786691d9",
   "metadata": {},
   "source": [
    "# 7. What are the values of the following expressions?\n",
    "\n",
    "- &#39;Hello&#39;.upper()\n",
    "- &#39;Hello&#39;.upper().isupper()\n",
    "- &#39;Hello&#39;.upper().lower()"
   ]
  },
  {
   "cell_type": "code",
   "execution_count": 33,
   "id": "cfafe56e",
   "metadata": {},
   "outputs": [
    {
     "name": "stdout",
     "output_type": "stream",
     "text": [
      "The value of 'Hello'.upper()            --> HELLO\n",
      "The value of 'Hello'.upper().isupper()  --> True\n",
      "The value of 'Hello'.upper().lower()    --> hello\n"
     ]
    }
   ],
   "source": [
    "# The Value of above expression is as follows.\n",
    "\n",
    "\n",
    "print(\"The value of 'Hello'.upper()            -->\", 'Hello'.upper())\n",
    "print(\"The value of 'Hello'.upper().isupper()  -->\", 'Hello'.upper().isupper())\n",
    "print(\"The value of 'Hello'.upper().lower()    -->\", 'Hello'.upper().lower())"
   ]
  },
  {
   "cell_type": "markdown",
   "id": "c7784732",
   "metadata": {},
   "source": [
    "# 8. What are the values of the following expressions?\n",
    "\n",
    "&#39;Remember, remember, the fifth of July.&#39;.split()\n",
    "\n",
    "&#39;-&#39;.join(&#39;There can only one.&#39;.split())"
   ]
  },
  {
   "cell_type": "code",
   "execution_count": 47,
   "id": "48738af4",
   "metadata": {},
   "outputs": [
    {
     "data": {
      "text/plain": [
       "['Remember,', 'remember,', 'the', 'fifth', 'of', 'July.']"
      ]
     },
     "execution_count": 47,
     "metadata": {},
     "output_type": "execute_result"
    }
   ],
   "source": [
    "# The value of expression 1 \n",
    "'Remember, remember, the fifth of July.'.split()"
   ]
  },
  {
   "cell_type": "code",
   "execution_count": 40,
   "id": "5c12447f",
   "metadata": {},
   "outputs": [
    {
     "data": {
      "text/plain": [
       "'There-can-only-one.'"
      ]
     },
     "execution_count": 40,
     "metadata": {},
     "output_type": "execute_result"
    }
   ],
   "source": [
    "# The Value of expression 2\n",
    "'-'.join('There can only one.'.split())"
   ]
  },
  {
   "cell_type": "markdown",
   "id": "4445c990",
   "metadata": {},
   "source": [
    "# 9. What are the methods for right-justifying, left-justifying, and centering a string?"
   ]
  },
  {
   "cell_type": "markdown",
   "id": "356adb81",
   "metadata": {},
   "source": [
    "- Ans :\n",
    "- For left-justifying  - l.just(),\n",
    "- For right-justifying - r.just(),\n",
    "- For centering        - center()"
   ]
  },
  {
   "cell_type": "markdown",
   "id": "25c1ea85",
   "metadata": {},
   "source": [
    "# 10. What is the best way to remove whitespace characters from the start or end?"
   ]
  },
  {
   "cell_type": "markdown",
   "id": "4fd7bebe",
   "metadata": {},
   "source": [
    "- Ans: \n",
    "- lstrip() : To remove whitespace charcters from left end of the strip\n",
    "- rstrip() : To remove whitespace charcters from right end of the strip"
   ]
  },
  {
   "cell_type": "code",
   "execution_count": null,
   "id": "a7f33bac",
   "metadata": {},
   "outputs": [],
   "source": []
  }
 ],
 "metadata": {
  "kernelspec": {
   "display_name": "Python 3 (ipykernel)",
   "language": "python",
   "name": "python3"
  },
  "language_info": {
   "codemirror_mode": {
    "name": "ipython",
    "version": 3
   },
   "file_extension": ".py",
   "mimetype": "text/x-python",
   "name": "python",
   "nbconvert_exporter": "python",
   "pygments_lexer": "ipython3",
   "version": "3.9.12"
  }
 },
 "nbformat": 4,
 "nbformat_minor": 5
}
