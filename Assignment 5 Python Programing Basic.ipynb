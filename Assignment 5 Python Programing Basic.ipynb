{
 "cells": [
  {
   "cell_type": "markdown",
   "id": "da7fb4b2",
   "metadata": {},
   "source": [
    "# Assignment 5 Solution [Python Programming Basic]"
   ]
  },
  {
   "cell_type": "markdown",
   "id": "14857dca",
   "metadata": {},
   "source": [
    "# 1. Write a Python Program to Find LCM?"
   ]
  },
  {
   "cell_type": "code",
   "execution_count": 9,
   "id": "4b701f76",
   "metadata": {},
   "outputs": [
    {
     "name": "stdout",
     "output_type": "stream",
     "text": [
      "Enter 1st number: 30\n",
      "Enter 2nd number: 54\n",
      "The LCM of 30 and 54 is: 270\n"
     ]
    }
   ],
   "source": [
    "def findLcm():\n",
    "    num1 = int(input(\"Enter 1st number: \"))\n",
    "    num2 = int(input(\"Enter 2nd number: \"))\n",
    "    \n",
    "    for i in range(1,(num1*(num2+1))):           # loop starts from 1 to multiplication of num1 and num2.\n",
    "        if i % num1 == 0 and i % num2  == 0:     # Checking if the number is divided by num 1 and num2, then print LCM\n",
    "            print(f\"The LCM of {num1} and {num2} is: {i}\")\n",
    "            break\n",
    "            \n",
    "\n",
    "findLcm()"
   ]
  },
  {
   "cell_type": "markdown",
   "id": "899b6636",
   "metadata": {},
   "source": [
    "# 2. Write a Python Program to Find HCF ?"
   ]
  },
  {
   "cell_type": "code",
   "execution_count": 1,
   "id": "f8ece672",
   "metadata": {},
   "outputs": [
    {
     "name": "stdout",
     "output_type": "stream",
     "text": [
      "Enter 1st number: 98\n",
      "Enter 2nd number: 56\n",
      "HCF is 14\n"
     ]
    }
   ],
   "source": [
    "def findHCF():\n",
    "    while True:\n",
    "        try:\n",
    "            num1 = int(input(\"Enter 1st number: \"))\n",
    "            num2 = int(input(\"Enter 2nd number: \"))\n",
    "            \n",
    "            while num1%num2 != 0:\n",
    "                rem = num1 % num2\n",
    "                num1 = num2\n",
    "                num2 = rem\n",
    "\n",
    "            print(f\"HCF is {num2}\")\n",
    "            break\n",
    "\n",
    "        except ValueError:\n",
    "            print(\"Please enter only integer\")\n",
    "        except ZeroDivisionError:\n",
    "            print(\"Please enter positive number only\")\n",
    "\n",
    "findHCF()"
   ]
  },
  {
   "cell_type": "markdown",
   "id": "4eb4990c",
   "metadata": {},
   "source": [
    "# Another logic to find HCF  "
   ]
  },
  {
   "cell_type": "code",
   "execution_count": 9,
   "id": "dff2815c",
   "metadata": {},
   "outputs": [
    {
     "name": "stdout",
     "output_type": "stream",
     "text": [
      "Enter the number: 56\n",
      "Enter the number: 48\n",
      "The HCF of 56 and 48 is  8\n"
     ]
    }
   ],
   "source": [
    "a = int(input(\"Enter the number: \"))\n",
    "b = int(input(\"Enter the number: \"))\n",
    "\n",
    "if a < b:\n",
    "    smaller = a\n",
    "else:\n",
    "    smaller = b\n",
    "    \n",
    "for i in range(1, smaller + 1):\n",
    "    if (a % i == 0) and (b % i == 0):       # Check the highest number by which both a and b can be divided,                                     \n",
    "        hcf = i                             # then print that highest number as HCF\n",
    "         \n",
    "print(f\"The HCF of {a} and {b} is \",hcf)\n",
    "        \n",
    "    "
   ]
  },
  {
   "cell_type": "markdown",
   "id": "b8f213cc",
   "metadata": {},
   "source": [
    "# 3. Write a Python Program to Convert Decimal to Binary, Octal and Hexadecimal?"
   ]
  },
  {
   "cell_type": "code",
   "execution_count": 19,
   "id": "7b11f8b8",
   "metadata": {},
   "outputs": [
    {
     "name": "stdout",
     "output_type": "stream",
     "text": [
      "Enter the number: 254147\n",
      "Binary number: ---> 0b111110000011000011 \n",
      "Octal number : ---> 0o760303 \n",
      "Hexadecimal number : ---> 0x3e0c3 \n"
     ]
    }
   ],
   "source": [
    "def decimaltoother():\n",
    "    print(f\"Binary number: ---> {bin(num)} \")                         # bin() to convert decimal to binary\n",
    "    print(f\"Octal number : ---> {oct(num)} \")                         # oct() to convert decimal to octal\n",
    "    print(f\"Hexadecimal number : ---> {hex(num)} \")                   # hex() to convert decimal to Hexadecimal\n",
    "    \n",
    "num = int(input(\"Enter the number: \"))\n",
    "\n",
    "decimaltoother()"
   ]
  },
  {
   "cell_type": "markdown",
   "id": "6b8ce020",
   "metadata": {},
   "source": [
    "# 4. Write a Python Program To Find ASCII value of a character?"
   ]
  },
  {
   "cell_type": "code",
   "execution_count": 36,
   "id": "c4f8fb32",
   "metadata": {},
   "outputs": [
    {
     "name": "stdout",
     "output_type": "stream",
     "text": [
      "Enter any character: m\n",
      "The Ascii value m is 109\n"
     ]
    }
   ],
   "source": [
    "def findASCII():\n",
    "    char = str(input(\"Enter any character: \"))\n",
    "    if len(char) >1:\n",
    "        print(\"Enter only single character\")\n",
    "    else:\n",
    "        print(f\"The Ascii value {char} is {ord(char)}\")\n",
    "        \n",
    "findASCII()"
   ]
  },
  {
   "cell_type": "markdown",
   "id": "b9cc505e",
   "metadata": {},
   "source": [
    "# 5. Write a Python Program to Make a Simple Calculator with 4 Basic Mathematical operations ?"
   ]
  },
  {
   "cell_type": "code",
   "execution_count": 3,
   "id": "3848a578",
   "metadata": {},
   "outputs": [
    {
     "name": "stdout",
     "output_type": "stream",
     "text": [
      "Select the Mathematical Operator\n",
      "     + : Addition \n",
      "     - : Substraction\n",
      "     * : Multiplication\n",
      "     / : Division\n",
      "\n",
      "Enter the arithmethic operator: *\n",
      "Enter 1st number : 20\n",
      "Enter 2nd number : 5\n",
      "20 * 5 = 100\n",
      "\n",
      "Enter the arithmethic operator: +\n",
      "Enter 1st number : 254\n",
      "Enter 2nd number : 45\n",
      "254 + 45 = 299\n",
      "\n",
      "Enter the arithmethic operator: -\n",
      "Enter 1st number : 587\n",
      "Enter 2nd number : 87\n",
      "587 - 87 = 500\n",
      "\n",
      "Enter the arithmethic operator: /\n",
      "Enter 1st number : 45\n",
      "Enter 2nd number : 9\n",
      "45 / 9 = 5.0\n",
      "\n",
      "Enter the arithmethic operator: 0\n",
      "Program stopped\n"
     ]
    }
   ],
   "source": [
    "import operator\n",
    "\n",
    "op = {\"+\":operator.add , \"-\" : operator.sub , \"*\" : operator.mul , \"/\" : operator.truediv}\n",
    "\n",
    "print(\"\"\"Select the Mathematical Operator\n",
    "     + : Addition \n",
    "     - : Substraction\n",
    "     * : Multiplication\n",
    "     / : Division\"\"\")\n",
    "\n",
    "\n",
    "\n",
    "while True:\n",
    "    operator = input(\"\\nEnter the arithmethic operator: \")    \n",
    "    if operator == \"0\":\n",
    "        print(\"Program stopped\")\n",
    "        break\n",
    "    elif operator not in (\"+\",\"-\",\"*\",\"/\"):\n",
    "        print(\"Please enter valid Arithmatic Operator\")\n",
    "    else:\n",
    "        num1 = int(input(\"Enter 1st number : \"))\n",
    "        num2 = int(input(\"Enter 2nd number : \"))\n",
    "        print(f\"{num1} {operator} {num2} = {op[operator](num1,num2)}\")"
   ]
  },
  {
   "cell_type": "code",
   "execution_count": null,
   "id": "5da16106",
   "metadata": {},
   "outputs": [],
   "source": []
  },
  {
   "cell_type": "code",
   "execution_count": null,
   "id": "e6219f7c",
   "metadata": {},
   "outputs": [],
   "source": []
  },
  {
   "cell_type": "code",
   "execution_count": null,
   "id": "746be8d6",
   "metadata": {},
   "outputs": [],
   "source": []
  },
  {
   "cell_type": "code",
   "execution_count": null,
   "id": "38078215",
   "metadata": {},
   "outputs": [],
   "source": []
  },
  {
   "cell_type": "code",
   "execution_count": null,
   "id": "916f665c",
   "metadata": {},
   "outputs": [],
   "source": []
  }
 ],
 "metadata": {
  "kernelspec": {
   "display_name": "Python 3 (ipykernel)",
   "language": "python",
   "name": "python3"
  },
  "language_info": {
   "codemirror_mode": {
    "name": "ipython",
    "version": 3
   },
   "file_extension": ".py",
   "mimetype": "text/x-python",
   "name": "python",
   "nbconvert_exporter": "python",
   "pygments_lexer": "ipython3",
   "version": "3.9.12"
  }
 },
 "nbformat": 4,
 "nbformat_minor": 5
}
