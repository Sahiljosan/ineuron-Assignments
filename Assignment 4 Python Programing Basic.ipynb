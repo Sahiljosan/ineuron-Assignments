{
 "cells": [
  {
   "cell_type": "markdown",
   "id": "fec2bd9f",
   "metadata": {},
   "source": [
    "# Assignment 4 Solution [ Python Programming Basic]"
   ]
  },
  {
   "cell_type": "markdown",
   "id": "936bcdf0",
   "metadata": {},
   "source": [
    "# 1.Write a Python Program to find the factorial of a number ?"
   ]
  },
  {
   "cell_type": "code",
   "execution_count": 30,
   "id": "86dd8b2b",
   "metadata": {},
   "outputs": [
    {
     "name": "stdout",
     "output_type": "stream",
     "text": [
      "Enter the number : 11\n",
      "The Factorial of 11 is 39916800\n"
     ]
    }
   ],
   "source": [
    "try :\n",
    "    \n",
    "    n = int(input(\"Enter the number : \"))\n",
    "    factorial = 1\n",
    "    if n < 0 :\n",
    "        print(\"Sorry factorial is not available for negative number\")\n",
    "    elif n == 0:\n",
    "        print(f\"The factorial of {n} is 1\")\n",
    "    else :\n",
    "        for i in range(1,n+1):\n",
    "            factorial = factorial * i\n",
    "        print(f\"The Factorial of {n} is {factorial}\")\n",
    "        \n",
    "except Exception as e:\n",
    "    print(\"Enter numbers only\")\n"
   ]
  },
  {
   "cell_type": "markdown",
   "id": "ec579eac",
   "metadata": {},
   "source": [
    "# 2.Write a Python Program to display the multiplication table ?"
   ]
  },
  {
   "cell_type": "code",
   "execution_count": 31,
   "id": "6f2b815e",
   "metadata": {},
   "outputs": [
    {
     "name": "stdout",
     "output_type": "stream",
     "text": [
      "Enter the number : 5\n",
      "Enter the number of entries : 15\n",
      "5 X 1 = 5\n",
      "5 X 2 = 10\n",
      "5 X 3 = 15\n",
      "5 X 4 = 20\n",
      "5 X 5 = 25\n",
      "5 X 6 = 30\n",
      "5 X 7 = 35\n",
      "5 X 8 = 40\n",
      "5 X 9 = 45\n",
      "5 X 10 = 50\n",
      "5 X 11 = 55\n",
      "5 X 12 = 60\n",
      "5 X 13 = 65\n",
      "5 X 14 = 70\n",
      "5 X 15 = 75\n"
     ]
    }
   ],
   "source": [
    "def mulTable(a,b):\n",
    "    \n",
    "    for i in range(1,b+1):\n",
    "        print(f\"{a} X {i} = {i*a}\")\n",
    "\n",
    "a = int(input(\"Enter the number : \"))\n",
    "b = int(input(\"Enter the number of entries : \"))\n",
    "mulTable(a,b)"
   ]
  },
  {
   "cell_type": "markdown",
   "id": "1ea7aa15",
   "metadata": {},
   "source": [
    "# 3.Write a Python Program to print the fibonacci sequence ?"
   ]
  },
  {
   "cell_type": "code",
   "execution_count": 43,
   "id": "22c7f500",
   "metadata": {},
   "outputs": [
    {
     "name": "stdout",
     "output_type": "stream",
     "text": [
      "Enter the number : 6\n",
      "The Fibonacci Seq of 6 is :  [0, 1, 1, 2, 3, 5]\n"
     ]
    }
   ],
   "source": [
    "def fib(n):\n",
    "    \n",
    "    a = 0\n",
    "    b = 1\n",
    "    n = int(input(\"Enter the number : \"))\n",
    "    fibonacci_seq = [0,1]\n",
    "    if n == 1:\n",
    "        print(a)\n",
    "    elif n == 0:\n",
    "        print(\"Please enter positive number\")\n",
    "    else:\n",
    "        for i in range(2,n):\n",
    "            c = a+b \n",
    "            fibonacci_seq.append(c)\n",
    "            a = b \n",
    "            b = c\n",
    "        print(f\"The Fibonacci Seq of {n} is : \",fibonacci_seq)\n",
    "        \n",
    "fib(n)"
   ]
  },
  {
   "cell_type": "markdown",
   "id": "a982d261",
   "metadata": {},
   "source": [
    "# 4.Write a Python Program to check Armstrong number ?"
   ]
  },
  {
   "cell_type": "code",
   "execution_count": 33,
   "id": "aee7010f",
   "metadata": {},
   "outputs": [
    {
     "name": "stdout",
     "output_type": "stream",
     "text": [
      "Enter the number : 371\n",
      "The number 371 is armstrong number\n",
      "Enter the number : 125\n",
      "The number 125 is not armstrong number\n"
     ]
    }
   ],
   "source": [
    "def armstr(num):            \n",
    "\n",
    "    sum = 0\n",
    "\n",
    "    temp = num \n",
    "    while temp > 0:\n",
    "        digit = temp % 10\n",
    "                                    #print(\"\\tdigit: \", digit)\n",
    "        sum = sum + (digit**3)\n",
    "                                    #print(\"\\tsum: \",sum)\n",
    "        temp //= 10                                    #print(\"\\tTemp: \",temp)\n",
    "\n",
    "    if num == sum:\n",
    "        print(f\"The number {num} is armstrong number\")\n",
    "    else:\n",
    "        print(f\"The number {num} is not armstrong number\")\n",
    "        \n",
    "        \n",
    "for x in range(2):\n",
    "    num = int(input(\"Enter the number : \"))\n",
    "    armstr(num)"
   ]
  },
  {
   "cell_type": "markdown",
   "id": "b49a6a27",
   "metadata": {},
   "source": [
    "# 5.Write a Python Program to Find Armstrong number in an interval ?"
   ]
  },
  {
   "cell_type": "code",
   "execution_count": 35,
   "id": "b47daa02",
   "metadata": {},
   "outputs": [
    {
     "name": "stdout",
     "output_type": "stream",
     "text": [
      "Enter lower number  : 1\n",
      "Enter Higher number : 60000\n",
      "Armstrong number between 1 and 60000 is  [1, 153, 370, 371, 407, 1634, 8208, 9474, 4150, 4151, 54748]\n"
     ]
    }
   ],
   "source": [
    "def armstrong_number_interval(low,hi):\n",
    "    \n",
    "    number_list = []\n",
    "    \n",
    "    # for 3 digit number\n",
    "    \n",
    "    for i in range(low,hi):\n",
    "        sum = 0\n",
    "        temp = i\n",
    "        \n",
    "        while temp > 0:\n",
    "            digit = temp % 10\n",
    "            sum = sum + (digit**3)\n",
    "            temp //= 10                                            \n",
    "        if sum == i:\n",
    "            number_list.append(i)\n",
    "        else:\n",
    "            pass\n",
    "        \n",
    "    # for 4 digit number\n",
    "        \n",
    "    for i in range(low+1,hi):\n",
    "        sum = 0\n",
    "        temp = i\n",
    "        \n",
    "        while temp > 0:\n",
    "            digit = temp % 10\n",
    "            sum = sum + (digit**4)\n",
    "            temp //= 10                                            \n",
    "        if sum == i:\n",
    "            number_list.append(i)\n",
    "        else:\n",
    "            pass\n",
    "    \n",
    "    # for 5 digit number\n",
    "        \n",
    "    for i in range(low+1,hi):\n",
    "        sum = 0\n",
    "        temp = i\n",
    "        \n",
    "        while temp > 0:\n",
    "            digit = temp % 10\n",
    "            sum = sum + (digit**5)\n",
    "            temp //= 10                                            \n",
    "        if sum == i:\n",
    "            number_list.append(i)\n",
    "        else:\n",
    "            pass\n",
    "    \n",
    "        \n",
    "    print(f\"Armstrong number between {low} and {hi} is \",number_list)\n",
    "        \n",
    "\n",
    "low = int(input(\"Enter lower number  : \"))\n",
    "hi = int(input(\"Enter Higher number : \"))        \n",
    "armstrong_number_interval(low,hi)"
   ]
  },
  {
   "cell_type": "markdown",
   "id": "30ea1fe9",
   "metadata": {},
   "source": [
    "# 6.Write a Python Program to sum of natural numbers ?"
   ]
  },
  {
   "cell_type": "code",
   "execution_count": 30,
   "id": "c66964ed",
   "metadata": {},
   "outputs": [
    {
     "name": "stdout",
     "output_type": "stream",
     "text": [
      "Enter the number: 810\n",
      "The sum of 810 natural number is : 328455.0\n"
     ]
    }
   ],
   "source": [
    "def sumofnatural_number():\n",
    "    num = int(input(\"Enter the number: \"))\n",
    "    \n",
    "    sum = (num * (num+1))/2\n",
    "    print(f\"The sum of {num} natural number is :\",sum)\n",
    "        \n",
    "    \n",
    "sumofnatural_number()"
   ]
  },
  {
   "cell_type": "code",
   "execution_count": null,
   "id": "16bdda5d",
   "metadata": {},
   "outputs": [],
   "source": []
  }
 ],
 "metadata": {
  "kernelspec": {
   "display_name": "Python 3 (ipykernel)",
   "language": "python",
   "name": "python3"
  },
  "language_info": {
   "codemirror_mode": {
    "name": "ipython",
    "version": 3
   },
   "file_extension": ".py",
   "mimetype": "text/x-python",
   "name": "python",
   "nbconvert_exporter": "python",
   "pygments_lexer": "ipython3",
   "version": "3.9.12"
  }
 },
 "nbformat": 4,
 "nbformat_minor": 5
}
