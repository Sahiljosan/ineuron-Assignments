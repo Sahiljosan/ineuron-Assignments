{
 "cells": [
  {
   "cell_type": "markdown",
   "id": "9b053596",
   "metadata": {},
   "source": [
    "# Python Basic Assignment 6 Solutions"
   ]
  },
  {
   "cell_type": "markdown",
   "id": "7aca6878",
   "metadata": {},
   "source": [
    "#  1. What are escape characters, and how do you use them?"
   ]
  },
  {
   "cell_type": "markdown",
   "id": "60c93741",
   "metadata": {},
   "source": [
    "- Ans : \n",
    "Escape characters represent characters in string values that would otherwise be difficult or impossible to type into code. we can use the backslash character to escape a single character or symbol\n",
    "- Example : \\n , \\t"
   ]
  },
  {
   "cell_type": "markdown",
   "id": "07d6259a",
   "metadata": {},
   "source": [
    "# 2. What do the escape characters n and t stand for?"
   ]
  },
  {
   "cell_type": "markdown",
   "id": "8d4cc1e5",
   "metadata": {},
   "source": [
    "- Ans: \n",
    "- \\n stands for New Line\n",
    "- \\t stands for tab"
   ]
  },
  {
   "cell_type": "markdown",
   "id": "cb561b62",
   "metadata": {},
   "source": [
    "# 3. What is the way to include backslash characters in a string?"
   ]
  },
  {
   "cell_type": "code",
   "execution_count": null,
   "id": "df19b6d6",
   "metadata": {},
   "outputs": [],
   "source": [
    "- Ans:   \n",
    "# \\\\ escape character represents the backslash character in a string"
   ]
  },
  {
   "cell_type": "markdown",
   "id": "7aab07a4",
   "metadata": {},
   "source": [
    "# 4. The string &quot;Howl&#39;s Moving Castle&quot; is a correct value. Why isn&#39;t the single quote character in theword Howl&#39;s not escaped a problem?"
   ]
  },
  {
   "cell_type": "markdown",
   "id": "cb143e1d",
   "metadata": {},
   "source": [
    "- Ans: The string \"Howl's Moving Castle\" escaped the problem because it is wrapped inside double quotes. if u want to wrapped it in single qoute then we have to use backslash before single qoute like this. Howl\\\\'s\n",
    "\n",
    "\n",
    "- 'Howl\\\\'s Moving Castle'  --> 'Howl's Moving Castle'"
   ]
  },
  {
   "cell_type": "markdown",
   "id": "d00d6163",
   "metadata": {},
   "source": [
    "# 5. How do you write a string of newlines if you don&#39;t want to use the n character?"
   ]
  },
  {
   "cell_type": "markdown",
   "id": "f408fd22",
   "metadata": {},
   "source": [
    "- Ans: Multiline string allow you to write a string in newlines without using \\n escape character"
   ]
  },
  {
   "cell_type": "code",
   "execution_count": 7,
   "id": "809b439b",
   "metadata": {},
   "outputs": [
    {
     "name": "stdout",
     "output_type": "stream",
     "text": [
      "String in line 1\n",
      "String in line 2\n"
     ]
    }
   ],
   "source": [
    "# Example:\n",
    "s = \"\"\"String in line 1\n",
    "String in line 2\"\"\"\n",
    "print(s)"
   ]
  },
  {
   "cell_type": "markdown",
   "id": "45382883",
   "metadata": {},
   "source": [
    "# 6. What are the values of the given expressions?\n",
    "- &#39;Hello, world!&#39;[1]\n",
    "- &#39;Hello, world!&#39;[0:5]\n",
    "- &#39;Hello, world!&#39;[:5]\n",
    "- &#39;Hello, world!&#39;[3:]"
   ]
  },
  {
   "cell_type": "code",
   "execution_count": 13,
   "id": "3c835068",
   "metadata": {},
   "outputs": [
    {
     "name": "stdout",
     "output_type": "stream",
     "text": [
      "The value of 'Hello, world!'[1]   --> e\n",
      "The value of 'Hello, world!'[0:5] --> Hello\n",
      "The value of 'Hello, world!'[:5]  --> Hello\n",
      "The value of 'Hello, world!'[3:]  --> lo, world!\n"
     ]
    }
   ],
   "source": [
    "print(\"The value of 'Hello, world!'[1]   -->\", 'Hello, world!'[1])\n",
    "print(\"The value of 'Hello, world!'[0:5] -->\", 'Hello, world!'[0:5])\n",
    "print(\"The value of 'Hello, world!'[:5]  -->\", 'Hello, world!'[:5])\n",
    "print(\"The value of 'Hello, world!'[3:]  -->\", 'Hello, world!'[3:])"
   ]
  },
  {
   "cell_type": "markdown",
   "id": "2a808100",
   "metadata": {},
   "source": [
    "# 7. What are the values of the following expressions?\n",
    "\n",
    "- &#39;Hello&#39;.upper()\n",
    "- &#39;Hello&#39;.upper().isupper()\n",
    "- &#39;Hello&#39;.upper().lower()"
   ]
  },
  {
   "cell_type": "code",
   "execution_count": 33,
   "id": "a13622a8",
   "metadata": {},
   "outputs": [
    {
     "name": "stdout",
     "output_type": "stream",
     "text": [
      "The value of 'Hello'.upper()            --> HELLO\n",
      "The value of 'Hello'.upper().isupper()  --> True\n",
      "The value of 'Hello'.upper().lower()    --> hello\n"
     ]
    }
   ],
   "source": [
    "# The Value of above expression is as follows.\n",
    "\n",
    "\n",
    "print(\"The value of 'Hello'.upper()            -->\", 'Hello'.upper())\n",
    "print(\"The value of 'Hello'.upper().isupper()  -->\", 'Hello'.upper().isupper())\n",
    "print(\"The value of 'Hello'.upper().lower()    -->\", 'Hello'.upper().lower())"
   ]
  },
  {
   "cell_type": "markdown",
   "id": "e8d362c5",
   "metadata": {},
   "source": [
    "# 8. What are the values of the following expressions?\n",
    "\n",
    "&#39;Remember, remember, the fifth of July.&#39;.split()\n",
    "\n",
    "&#39;-&#39;.join(&#39;There can only one.&#39;.split())"
   ]
  },
  {
   "cell_type": "code",
   "execution_count": 47,
   "id": "1914720e",
   "metadata": {},
   "outputs": [
    {
     "data": {
      "text/plain": [
       "['Remember,', 'remember,', 'the', 'fifth', 'of', 'July.']"
      ]
     },
     "execution_count": 47,
     "metadata": {},
     "output_type": "execute_result"
    }
   ],
   "source": [
    "# The value of expression 1 \n",
    "'Remember, remember, the fifth of July.'.split()"
   ]
  },
  {
   "cell_type": "code",
   "execution_count": 40,
   "id": "130a430c",
   "metadata": {},
   "outputs": [
    {
     "data": {
      "text/plain": [
       "'There-can-only-one.'"
      ]
     },
     "execution_count": 40,
     "metadata": {},
     "output_type": "execute_result"
    }
   ],
   "source": [
    "# The Value of expression 2\n",
    "'-'.join('There can only one.'.split())"
   ]
  },
  {
   "cell_type": "markdown",
   "id": "70b6ba1b",
   "metadata": {},
   "source": [
    "# 9. What are the methods for right-justifying, left-justifying, and centering a string?"
   ]
  },
  {
   "cell_type": "markdown",
   "id": "937c68a7",
   "metadata": {},
   "source": [
    "- Ans :\n",
    "- For left-justifying  - l.just(),\n",
    "- For right-justifying - r.just(),\n",
    "- For centering        - center()"
   ]
  },
  {
   "cell_type": "markdown",
   "id": "d68ae565",
   "metadata": {},
   "source": [
    "# 10. What is the best way to remove whitespace characters from the start or end?"
   ]
  },
  {
   "cell_type": "markdown",
   "id": "3967456f",
   "metadata": {},
   "source": [
    "- Ans: \n",
    "- lstrip() : To remove whitespace charcters from left end of the strip\n",
    "- rstrip() : To remove whitespace charcters from right end of the strip"
   ]
  },
  {
   "cell_type": "code",
   "execution_count": null,
   "id": "d409a5de",
   "metadata": {},
   "outputs": [],
   "source": []
  }
 ],
 "metadata": {
  "kernelspec": {
   "display_name": "Python 3 (ipykernel)",
   "language": "python",
   "name": "python3"
  },
  "language_info": {
   "codemirror_mode": {
    "name": "ipython",
    "version": 3
   },
   "file_extension": ".py",
   "mimetype": "text/x-python",
   "name": "python",
   "nbconvert_exporter": "python",
   "pygments_lexer": "ipython3",
   "version": "3.9.12"
  }
 },
 "nbformat": 4,
 "nbformat_minor": 5
}
